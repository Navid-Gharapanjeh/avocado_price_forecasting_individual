{
 "cells": [
  {
   "cell_type": "markdown",
   "metadata": {},
   "source": [
    "# Data preparation and Common Strategies for Missing Values "
   ]
  },
  {
   "cell_type": "markdown",
   "metadata": {},
   "source": [
    "The missing values analysis examines data gaps in our avocado dataset that could affect model quality. We'll identify which variables have missing data, quantify the extent of missingness, determine if patterns exist (like the post-2022 bag data), and develop appropriate handling strategies (imputation or removal). Proper treatment of missing values is essential for building reliable price forecasting models, as incomplete data can lead to biased predictions or reduced model performance."
   ]
  },
  {
   "cell_type": "code",
   "execution_count": 10,
   "metadata": {},
   "outputs": [
    {
     "name": "stdout",
     "output_type": "stream",
     "text": [
      "Analysis of rows where bag sizes are missing:\n",
      "Number of rows with missing bag sizes: 12390\n",
      "\n",
      "Are 'TotalBags' also missing in these rows? False\n",
      "Number of missing 'TotalBags' in these rows: 0\n",
      "\n",
      "Warning: Found 12389 rows where treating missing bags as 0 does NOT align with TotalBags.\n",
      "=> Consider Median imputation or investigate these specific rows further.\n",
      "--------------------------------------------------\n"
     ]
    }
   ],
   "source": [
    "import pandas as pd\n",
    "import numpy as np \n",
    "import matplotlib.pyplot as plt\n",
    "import seaborn as sns\n",
    "\n",
    "file_path = '../data/raw/Avocado_HassAvocadoBoard_20152023v1.0.1.csv'\n",
    "\n",
    "# Attempt to load the CSV file into a pandas DataFrame\n",
    "df = pd.read_csv(file_path)\n",
    "# Assuming df is your DataFrame\n",
    "missing_mask = df['SmallBags'].isnull() # Mask for rows where SmallBags is missing (same for Large/XLarge)\n",
    "\n",
    "# Check TotalBags in rows where individual bags are missing\n",
    "print(\"Analysis of rows where bag sizes are missing:\")\n",
    "print(f\"Number of rows with missing bag sizes: {missing_mask.sum()}\")\n",
    "\n",
    "if missing_mask.sum() > 0:\n",
    "    # Get the TotalBags values in these specific rows\n",
    "    total_bags_in_missing_rows = df.loc[missing_mask, 'TotalBags']\n",
    "\n",
    "    # Check if TotalBags itself is missing in these rows\n",
    "    print(f\"\\nAre 'TotalBags' also missing in these rows? {total_bags_in_missing_rows.isnull().any()}\")\n",
    "    print(f\"Number of missing 'TotalBags' in these rows: {total_bags_in_missing_rows.isnull().sum()}\")\n",
    "\n",
    "    # --- Check if non-missing bags sum up to TotalBags ---\n",
    "    # Fill NaNs temporarily with 0 ONLY for this check\n",
    "    temp_df = df[['SmallBags', 'LargeBags', 'XLargeBags', 'TotalBags']].copy()\n",
    "    temp_df.fillna(0, inplace=True)\n",
    "\n",
    "    # Calculate sum where original data was missing\n",
    "    calculated_sum_where_missing = temp_df.loc[missing_mask, ['SmallBags', 'LargeBags', 'XLargeBags']].sum(axis=1)\n",
    "    total_bags_where_missing = temp_df.loc[missing_mask, 'TotalBags']\n",
    "\n",
    "    # See if the sum of bags (with NaNs treated as 0) equals TotalBags in those rows\n",
    "    mismatch_check = ~np.isclose(calculated_sum_where_missing, total_bags_where_missing)\n",
    "\n",
    "    if mismatch_check.sum() == 0:\n",
    "        print(\"\\nConclusion: In all rows with missing individual bag sizes, TotalBags seems consistent with the sum if missing values are treated as 0.\")\n",
    "        print(\"=> Recommendation: Impute missing SmallBags, LargeBags, XLargeBags with 0.\")\n",
    "        imputation_strategy = 0 # Set recommended strategy\n",
    "    else:\n",
    "        print(f\"\\nWarning: Found {mismatch_check.sum()} rows where treating missing bags as 0 does NOT align with TotalBags.\")\n",
    "        print(\"=> Consider Median imputation or investigate these specific rows further.\")\n",
    "        imputation_strategy = 'median' # Set alternative strategy\n",
    "else:\n",
    "    print(\"\\nNo missing bag sizes found for this check.\")\n",
    "    imputation_strategy = None # No action needed\n",
    "\n",
    "print(\"-\" * 50)\n"
   ]
  },
  {
   "cell_type": "markdown",
   "metadata": {},
   "source": [
    "This analysis examines the 12,390 rows with missing bag size data to determine the best imputation approach. Notably, TotalBags values are present in all these rows, but simply using zeros for missing bag sizes would not align with the reported TotalBags in 12,389 cases. This indicates that these missing values represent actual bag sales rather than zeros. Therefore, I'll implement a proportional imputation strategy based on average distributions from non-missing data to ensure the individual bag sizes sum correctly to the reported TotalBags value in each row, maintaining data consistency while providing realistic estimates for the missing values."
   ]
  },
  {
   "cell_type": "markdown",
   "metadata": {},
   "source": [
    "# 3- Data Preparation\n",
    "This code performs proportional imputation for missing bag size data, distributing TotalBags values across SmallBags, LargeBags, and XLargeBags based on historical distribution patterns while ensuring mathematical consistency.\n"
   ]
  },
  {
   "cell_type": "code",
   "execution_count": 11,
   "metadata": {},
   "outputs": [
    {
     "name": "stdout",
     "output_type": "stream",
     "text": [
      "Analysis of rows where bag sizes are missing:\n",
      "Number of rows with missing bag sizes: 12390\n",
      "\n",
      "Are 'TotalBags' also missing in these rows? False\n",
      "Number of missing 'TotalBags' in these rows: 0\n",
      "\n",
      "Performing intelligent imputation using TotalBags values...\n",
      "Average proportions from complete data:\n",
      "  - SmallBags: 0.4287\n",
      "  - LargeBags: 0.1088\n",
      "  - XLargeBags: 0.0060\n",
      "\n",
      "Verification: 0.01% of imputed rows have bag sums matching TotalBags within tolerance\n",
      "Adjusting remaining rows to ensure exact match with TotalBags...\n",
      "Imputation strategy: Proportional distribution based on TotalBags\n",
      "--------------------------------------------------\n",
      "\n",
      "Missing values AFTER imputation:\n",
      "SmallBags     0\n",
      "LargeBags     0\n",
      "XLargeBags    0\n",
      "dtype: int64\n",
      "\n",
      "Maximum difference between sum of bags and TotalBags: 10719269.5000000000\n",
      "Mean difference: 61879.6602690256\n",
      "--------------------------------------------------\n"
     ]
    }
   ],
   "source": [
    "# Columns to impute\n",
    "cols_to_impute = ['SmallBags', 'LargeBags', 'XLargeBags']\n",
    "missing_mask = df['SmallBags'].isnull()\n",
    "\n",
    "print(\"Analysis of rows where bag sizes are missing:\")\n",
    "print(f\"Number of rows with missing bag sizes: {missing_mask.sum()}\")\n",
    "\n",
    "if missing_mask.sum() > 0:\n",
    "    # Get the TotalBags values in these specific rows\n",
    "    total_bags_in_missing_rows = df.loc[missing_mask, 'TotalBags']\n",
    "\n",
    "    # Check if TotalBags itself is missing in these rows\n",
    "    print(f\"\\nAre 'TotalBags' also missing in these rows? {total_bags_in_missing_rows.isnull().any()}\")\n",
    "    print(f\"Number of missing 'TotalBags' in these rows: {total_bags_in_missing_rows.isnull().sum()}\")\n",
    "    \n",
    "    # Intelligent imputation approach based on TotalBags\n",
    "    print(\"\\nPerforming intelligent imputation using TotalBags values...\")\n",
    "    \n",
    "    # Get average proportions of bag sizes from rows with complete data\n",
    "    complete_data = df.dropna(subset=['SmallBags', 'LargeBags', 'XLargeBags'])\n",
    "    \n",
    "    if len(complete_data) > 0:\n",
    "        # Calculate average proportions where TotalBags > 0\n",
    "        total_with_bags = complete_data[complete_data['TotalBags'] > 0]\n",
    "        avg_small_prop = (total_with_bags['SmallBags'] / total_with_bags['TotalBags']).mean()\n",
    "        avg_large_prop = (total_with_bags['LargeBags'] / total_with_bags['TotalBags']).mean()\n",
    "        avg_xlarge_prop = (total_with_bags['XLargeBags'] / total_with_bags['TotalBags']).mean()\n",
    "        \n",
    "        # Display the proportions\n",
    "        print(f\"Average proportions from complete data:\")\n",
    "        print(f\"  - SmallBags: {avg_small_prop:.4f}\")\n",
    "        print(f\"  - LargeBags: {avg_large_prop:.4f}\")\n",
    "        print(f\"  - XLargeBags: {avg_xlarge_prop:.4f}\")\n",
    "        \n",
    "        # Apply these proportions to distribute TotalBags across the missing values\n",
    "        for idx in df[missing_mask].index:\n",
    "            total_bags = df.loc[idx, 'TotalBags']\n",
    "            \n",
    "            # Distribute total bags according to the average proportions\n",
    "            df.loc[idx, 'SmallBags'] = total_bags * avg_small_prop\n",
    "            df.loc[idx, 'LargeBags'] = total_bags * avg_large_prop\n",
    "            df.loc[idx, 'XLargeBags'] = total_bags * avg_xlarge_prop\n",
    "        \n",
    "        # Verify the sum equals TotalBags (within rounding error)\n",
    "        imputed_rows = df.loc[missing_mask]\n",
    "        sum_of_bags = imputed_rows['SmallBags'] + imputed_rows['LargeBags'] + imputed_rows['XLargeBags']\n",
    "        total_bags_values = imputed_rows['TotalBags']\n",
    "        \n",
    "        # Check if sums match within tolerance\n",
    "        is_close = np.isclose(sum_of_bags, total_bags_values, rtol=1e-5)\n",
    "        pct_close = (is_close.sum() / len(is_close)) * 100\n",
    "        \n",
    "        print(f\"\\nVerification: {pct_close:.2f}% of imputed rows have bag sums matching TotalBags within tolerance\")\n",
    "        \n",
    "        if pct_close < 100:\n",
    "            print(\"Adjusting remaining rows to ensure exact match with TotalBags...\")\n",
    "            \n",
    "            # For any rows where the sum doesn't match TotalBags exactly, adjust SmallBags to make it match\n",
    "            for idx in imputed_rows.index:\n",
    "                if not np.isclose(\n",
    "                    df.loc[idx, 'SmallBags'] + df.loc[idx, 'LargeBags'] + df.loc[idx, 'XLargeBags'],\n",
    "                    df.loc[idx, 'TotalBags'],\n",
    "                    rtol=1e-5\n",
    "                ):\n",
    "                    current_sum = df.loc[idx, 'SmallBags'] + df.loc[idx, 'LargeBags'] + df.loc[idx, 'XLargeBags']\n",
    "                    adjustment = df.loc[idx, 'TotalBags'] - current_sum\n",
    "                    df.loc[idx, 'SmallBags'] += adjustment  # Adjust SmallBags to ensure exact sum\n",
    "    else:\n",
    "        print(\"No complete rows found to calculate proportions. Using equal distribution.\")\n",
    "        \n",
    "        # Divide TotalBags equally among the three bag types\n",
    "        for idx in df[missing_mask].index:\n",
    "            total_bags = df.loc[idx, 'TotalBags']\n",
    "            df.loc[idx, 'SmallBags'] = total_bags / 3\n",
    "            df.loc[idx, 'LargeBags'] = total_bags / 3\n",
    "            df.loc[idx, 'XLargeBags'] = total_bags / 3\n",
    "        \n",
    "    print(\"Imputation strategy: Proportional distribution based on TotalBags\")\n",
    "else:\n",
    "    print(\"\\nNo missing bag sizes found for this check.\")\n",
    "\n",
    "print(\"-\" * 50)\n",
    "\n",
    "# Final verification\n",
    "print(\"\\nMissing values AFTER imputation:\")\n",
    "print(df[cols_to_impute].isnull().sum())\n",
    "\n",
    "# Check that imputed values sum to TotalBags\n",
    "sum_of_bags = df['SmallBags'] + df['LargeBags'] + df['XLargeBags']\n",
    "diff = np.abs(sum_of_bags - df['TotalBags'])\n",
    "max_diff = diff.max()\n",
    "print(f\"\\nMaximum difference between sum of bags and TotalBags: {max_diff:.10f}\")\n",
    "print(f\"Mean difference: {diff.mean():.10f}\")\n",
    "\n",
    "print(\"-\" * 50)"
   ]
  },
  {
   "cell_type": "markdown",
   "metadata": {},
   "source": [
    "***"
   ]
  },
  {
   "cell_type": "markdown",
   "metadata": {},
   "source": [
    "## Outlier Detection and Analysis\n",
    "\n",
    "This analysis identifies potential outliers in key variables using the IQR method, visualizing their distributions and quantifying their extent for informed treatment decisions."
   ]
  },
  {
   "cell_type": "code",
   "execution_count": 12,
   "metadata": {},
   "outputs": [
    {
     "name": "stdout",
     "output_type": "stream",
     "text": [
      "--- Data Preparation: Investigating Outliers ---\n",
      "\n",
      "Investigating Outliers in 'AveragePrice':\n"
     ]
    },
    {
     "data": {
      "image/png": "[encoded data removed]",
      "text/plain": [
       "<Figure size 1200x400 with 2 Axes>"
      ]
     },
     "metadata": {},
     "output_type": "display_data"
    },
    {
     "name": "stdout",
     "output_type": "stream",
     "text": [
      "Potential outliers in AveragePrice using IQR: 358\n",
      "  - Lower Bound: 0.26\n",
      "  - Upper Bound: 2.55\n",
      "  - Min/Max of potential outliers: 2.547146179 - 3.440829566\n",
      "\n",
      "Investigating Outliers in 'TotalVolume' (using log scale):\n"
     ]
    },
    {
     "data": {
      "image/png": "[encoded data removed]",
      "text/plain": [
       "<Figure size 1200x400 with 2 Axes>"
      ]
     },
     "metadata": {},
     "output_type": "display_data"
    },
    {
     "name": "stdout",
     "output_type": "stream",
     "text": [
      "Potential outliers in LogTotalVolume using IQR: 1\n",
      "  - Lower Bound (log): 4.70\n",
      "  - Upper Bound (log): 18.02\n",
      "  - Min/Max TotalVolume of potential outliers: 84.56 - 84.56\n",
      "--------------------------------------------------\n",
      "Outlier investigation complete. Decision needed on handling.\n"
     ]
    }
   ],
   "source": [
    "# --- Assuming df is loaded, missing values & duplicates handled ---\n",
    "\n",
    "print(\"--- Data Preparation: Investigating Outliers ---\")\n",
    "\n",
    "# --- AveragePrice ---\n",
    "print(\"\\nInvestigating Outliers in 'AveragePrice':\")\n",
    "plt.figure(figsize=(12, 4))\n",
    "\n",
    "plt.subplot(1, 2, 1)\n",
    "sns.histplot(df['AveragePrice'], kde=True)\n",
    "plt.title('Histogram of AveragePrice')\n",
    "\n",
    "plt.subplot(1, 2, 2)\n",
    "sns.boxplot(x=df['AveragePrice'])\n",
    "plt.title('Box Plot of AveragePrice')\n",
    "\n",
    "plt.tight_layout()\n",
    "plt.show()\n",
    "\n",
    "# Calculate IQR bounds for AveragePrice\n",
    "Q1_price = df['AveragePrice'].quantile(0.25)\n",
    "Q3_price = df['AveragePrice'].quantile(0.75)\n",
    "IQR_price = Q3_price - Q1_price\n",
    "lower_bound_price = Q1_price - 1.5 * IQR_price\n",
    "upper_bound_price = Q3_price + 1.5 * IQR_price\n",
    "\n",
    "outliers_price = df[(df['AveragePrice'] < lower_bound_price) | (df['AveragePrice'] > upper_bound_price)]\n",
    "print(f\"Potential outliers in AveragePrice using IQR: {len(outliers_price)}\")\n",
    "print(f\"  - Lower Bound: {lower_bound_price:.2f}\")\n",
    "print(f\"  - Upper Bound: {upper_bound_price:.2f}\")\n",
    "if not outliers_price.empty:\n",
    "    print(\"  - Min/Max of potential outliers:\", outliers_price['AveragePrice'].min(), \"-\", outliers_price['AveragePrice'].max())\n",
    "    # print(\"  - Sample outliers:\\n\", outliers_price[['Date', 'region', 'type', 'AveragePrice']].head())\n",
    "\n",
    "\n",
    "# --- TotalVolume ---\n",
    "# Often skewed, log transform helps visualize and assess outliers\n",
    "print(\"\\nInvestigating Outliers in 'TotalVolume' (using log scale):\")\n",
    "df['LogTotalVolume'] = np.log1p(df['TotalVolume']) # log1p = log(1+x)\n",
    "\n",
    "plt.figure(figsize=(12, 4))\n",
    "\n",
    "plt.subplot(1, 2, 1)\n",
    "sns.histplot(df['LogTotalVolume'], kde=True)\n",
    "plt.title('Histogram of log(TotalVolume + 1)')\n",
    "\n",
    "plt.subplot(1, 2, 2)\n",
    "sns.boxplot(x=df['LogTotalVolume'])\n",
    "plt.title('Box Plot of log(TotalVolume + 1)')\n",
    "\n",
    "plt.tight_layout()\n",
    "plt.show()\n",
    "\n",
    "# Calculate IQR bounds for LogTotalVolume\n",
    "Q1_vol = df['LogTotalVolume'].quantile(0.25)\n",
    "Q3_vol = df['LogTotalVolume'].quantile(0.75)\n",
    "IQR_vol = Q3_vol - Q1_vol\n",
    "lower_bound_vol = Q1_vol - 1.5 * IQR_vol\n",
    "upper_bound_vol = Q3_vol + 1.5 * IQR_vol\n",
    "\n",
    "# Find outliers based on the log scale\n",
    "outliers_log_vol_indices = df[(df['LogTotalVolume'] < lower_bound_vol) | (df['LogTotalVolume'] > upper_bound_vol)].index\n",
    "outliers_vol = df.loc[outliers_log_vol_indices] # Get original scale rows\n",
    "\n",
    "print(f\"Potential outliers in LogTotalVolume using IQR: {len(outliers_vol)}\")\n",
    "print(f\"  - Lower Bound (log): {lower_bound_vol:.2f}\")\n",
    "print(f\"  - Upper Bound (log): {upper_bound_vol:.2f}\")\n",
    "if not outliers_vol.empty:\n",
    "     print(\"  - Min/Max TotalVolume of potential outliers:\", outliers_vol['TotalVolume'].min(), \"-\", outliers_vol['TotalVolume'].max())\n",
    "     # print(\"  - Sample outliers:\\n\", outliers_vol[['Date', 'region', 'type', 'TotalVolume']].head())\n",
    "\n",
    "# Clean up temporary column\n",
    "df.drop(columns=['LogTotalVolume'], inplace=True, errors='ignore')\n",
    "\n",
    "print(\"-\" * 50)\n",
    "print(\"Outlier investigation complete. Decision needed on handling.\")"
   ]
  },
  {
   "cell_type": "markdown",
   "metadata": {},
   "source": [
    "The outlier analysis reveals two distinct patterns: 358 price outliers (2.55-3.44) exceeding the upper bound of $2.55, primarily representing premium organic avocados in high-cost markets; and a single volume outlier with an unusually low value (84.56), potentially indicating a data entry error or special circumstance. These findings suggest different treatment approaches may be needed - the price outliers likely represent valid premium market segments and could be retained, while the single volume outlier warrants further investigation or removal.\n",
    "\n",
    "***"
   ]
  },
  {
   "cell_type": "markdown",
   "metadata": {},
   "source": [
    "# Removing outliers\n",
    "Outliers can skew statistical analyses and machine learning models, distorting measures like the mean and increasing error variance, leading to inaccurate conclusions and reduced model accuracy. However, removing them shouldn't be automatic; it's crucial to understand their cause and context. Sometimes they represent genuine extreme values, and alternative approaches like robust statistics or data transformations might be more suitable than outright removal, ensuring that valuable information isn't lost."
   ]
  },
  {
   "cell_type": "code",
   "execution_count": 13,
   "metadata": {},
   "outputs": [
    {
     "name": "stdout",
     "output_type": "stream",
     "text": [
      "--- Data Preparation: Handling Outliers ---\n",
      "\n",
      "Removing 1 outlier row(s) based on LogTotalVolume IQR.\n",
      "Index(es) to remove: [4801]\n",
      "Removed 1 row(s). New shape: (53414, 12)\n",
      "\n",
      "Capping AveragePrice outliers above the 99th percentile (2.46).\n",
      "Capped 535 values in 'AveragePrice'.\n",
      "New maximum AveragePrice: 2.46\n",
      "--------------------------------------------------\n",
      "Outlier handling step complete.\n"
     ]
    }
   ],
   "source": [
    "\n",
    "\n",
    "print(\"--- Data Preparation: Handling Outliers ---\")\n",
    "\n",
    "# --- Handle TotalVolume Outlier ---\n",
    "# Find the index of the outlier row identified previously\n",
    "try:\n",
    "    log_total_volume = np.log1p(df['TotalVolume'])\n",
    "    Q1_vol = log_total_volume.quantile(0.25)\n",
    "    Q3_vol = log_total_volume.quantile(0.75)\n",
    "    IQR_vol = Q3_vol - Q1_vol\n",
    "    lower_bound_vol = Q1_vol - 1.5 * IQR_vol\n",
    "    upper_bound_vol = Q3_vol + 1.5 * IQR_vol\n",
    "    outlier_vol_indices = df[(log_total_volume < lower_bound_vol) | (log_total_volume > upper_bound_vol)].index\n",
    "\n",
    "    if not outlier_vol_indices.empty:\n",
    "        print(f\"\\nRemoving {len(outlier_vol_indices)} outlier row(s) based on LogTotalVolume IQR.\")\n",
    "        print(f\"Index(es) to remove: {outlier_vol_indices.tolist()}\")\n",
    "        # Optional: print the row(s) before removing\n",
    "        # print(\"Outlier row(s) being removed:\")\n",
    "        # print(df.loc[outlier_vol_indices])\n",
    "        df.drop(outlier_vol_indices, inplace=True)\n",
    "        print(f\"Removed {len(outlier_vol_indices)} row(s). New shape: {df.shape}\")\n",
    "    else:\n",
    "        print(\"\\nNo outliers found for TotalVolume based on Log IQR to remove.\")\n",
    "\n",
    "except KeyError:\n",
    "    print(\"\\n'TotalVolume' column not found, skipping volume outlier removal.\")\n",
    "except Exception as e:\n",
    "    print(f\"\\nAn error occurred during volume outlier removal: {e}\")\n",
    "\n",
    "\n",
    "try:\n",
    "    price_cap_value = df['AveragePrice'].quantile(0.99) # Calculate 99th percentile\n",
    "    print(f\"\\nCapping AveragePrice outliers above the 99th percentile ({price_cap_value:.2f}).\")\n",
    "\n",
    "    # Identify values above the cap\n",
    "    price_outliers_mask = df['AveragePrice'] > price_cap_value\n",
    "    num_price_outliers_to_cap = price_outliers_mask.sum()\n",
    "\n",
    "    if num_price_outliers_to_cap > 0:\n",
    "        # Replace values above the cap with the cap value\n",
    "        df.loc[price_outliers_mask, 'AveragePrice'] = price_cap_value\n",
    "        print(f\"Capped {num_price_outliers_to_cap} values in 'AveragePrice'.\")\n",
    "        print(f\"New maximum AveragePrice: {df['AveragePrice'].max():.2f}\")\n",
    "    else:\n",
    "        print(\"No values in 'AveragePrice' were above the 99th percentile cap.\")\n",
    "\n",
    "except KeyError:\n",
    "    print(\"\\n'AveragePrice' column not found, skipping price outlier capping.\")\n",
    "except Exception as e:\n",
    "    print(f\"\\nAn error occurred during price outlier capping: {e}\")\n",
    "\n",
    "\n",
    "print(\"-\" * 50)\n",
    "print(\"Outlier handling step complete.\")\n"
   ]
  },
  {
   "cell_type": "markdown",
   "metadata": {},
   "source": [
    "single outlier was removed from 'LogTotalVolume', and 535 'AveragePrice' values exceeding the 99th percentile (2.46) were capped at 2.46 to mitigate their impact.\n",
    "***"
   ]
  },
  {
   "cell_type": "markdown",
   "metadata": {},
   "source": [
    "### Data Preparation Complete: Moving to Modeling Phase\n",
    "Now that we've completed the data cleaning, imputation, and outlier analysis, we'll save this processed dataset and transition to the modeling phase where we'll develop and evaluate various price forecasting models."
   ]
  },
  {
   "cell_type": "code",
   "execution_count": 14,
   "metadata": {},
   "outputs": [
    {
     "name": "stdout",
     "output_type": "stream",
     "text": [
      "\n",
      "Saving cleaned data...\n",
      "Cleaned data saved\n"
     ]
    }
   ],
   "source": [
    "from pathlib import Path\n",
    "from sklearn.impute import SimpleImputer\n",
    "\n",
    "df_cleaned = df.copy()\n",
    "\n",
    "\n",
    "print(\"\\nSaving cleaned data...\")\n",
    "df_cleaned.to_csv(\"../data/processed/cleaned_avocado_data.csv\", index=False)\n",
    "print(\"Cleaned data saved\")\n"
   ]
  },
  {
   "cell_type": "markdown",
   "metadata": {},
   "source": [
    "***"
   ]
  },
  {
   "cell_type": "markdown",
   "metadata": {},
   "source": [
    "# Feature Engineering for Avocado Price Prediction\n",
    "This section transforms our cleaned dataset into optimized model inputs by creating relevant temporal features, encoding categorical variables, and selecting the most predictive attributes to improve forecasting accuracy."
   ]
  },
  {
   "cell_type": "code",
   "execution_count": 15,
   "metadata": {},
   "outputs": [
    {
     "name": "stdout",
     "output_type": "stream",
     "text": [
      "--- Data Preparation: Verifying Data Types ---\n",
      "<class 'pandas.core.frame.DataFrame'>\n",
      "RangeIndex: 53414 entries, 0 to 53413\n",
      "Data columns (total 12 columns):\n",
      " #   Column        Non-Null Count  Dtype  \n",
      "---  ------        --------------  -----  \n",
      " 0   Date          53414 non-null  object \n",
      " 1   AveragePrice  53414 non-null  float64\n",
      " 2   TotalVolume   53414 non-null  float64\n",
      " 3   plu4046       53414 non-null  float64\n",
      " 4   plu4225       53414 non-null  float64\n",
      " 5   plu4770       53414 non-null  float64\n",
      " 6   TotalBags     53414 non-null  float64\n",
      " 7   SmallBags     53414 non-null  float64\n",
      " 8   LargeBags     53414 non-null  float64\n",
      " 9   XLargeBags    53414 non-null  float64\n",
      " 10  type          53414 non-null  object \n",
      " 11  region        53414 non-null  object \n",
      "dtypes: float64(9), object(3)\n",
      "memory usage: 4.9+ MB\n",
      "None\n",
      "--------------------------------------------------\n"
     ]
    }
   ],
   "source": [
    "dfcleaned = pd.read_csv('../data/processed/cleaned_avocado_data.csv')\n",
    "del df\n",
    "\n",
    "print(\"--- Data Preparation: Verifying Data Types ---\")\n",
    "print(dfcleaned.info())\n",
    "print(\"-\" * 50)\n"
   ]
  },
  {
   "cell_type": "markdown",
   "metadata": {},
   "source": [
    "***"
   ]
  },
  {
   "cell_type": "markdown",
   "metadata": {},
   "source": [
    "Lets converts dates to datetime format, extracts time features (year, month, week, day), maps avocado types to binary values, creates dummy variables for regions, and displays the results."
   ]
  },
  {
   "cell_type": "code",
   "execution_count": 16,
   "metadata": {},
   "outputs": [
    {
     "name": "stdout",
     "output_type": "stream",
     "text": [
      "--- Data Preparation: Feature Engineering (Time Features) - Corrected ---\n",
      "Converting 'Date' column to datetime type...\n",
      "Extracting features using '.dt' accessor...\n",
      "\n",
      "Created new time-based features: Year, Month, WeekOfYear, DayOfYear, DayOfWeek\n",
      "Sample with new features:\n",
      "<class 'pandas.core.frame.DataFrame'>\n",
      "RangeIndex: 53414 entries, 0 to 53413\n",
      "Data columns (total 75 columns):\n",
      " #   Column                       Non-Null Count  Dtype         \n",
      "---  ------                       --------------  -----         \n",
      " 0   Date                         53414 non-null  datetime64[ns]\n",
      " 1   AveragePrice                 53414 non-null  float64       \n",
      " 2   TotalVolume                  53414 non-null  float64       \n",
      " 3   plu4046                      53414 non-null  float64       \n",
      " 4   plu4225                      53414 non-null  float64       \n",
      " 5   plu4770                      53414 non-null  float64       \n",
      " 6   TotalBags                    53414 non-null  float64       \n",
      " 7   SmallBags                    53414 non-null  float64       \n",
      " 8   LargeBags                    53414 non-null  float64       \n",
      " 9   XLargeBags                   53414 non-null  float64       \n",
      " 10  type                         53414 non-null  int64         \n",
      " 11  Year                         53414 non-null  int32         \n",
      " 12  Month                        53414 non-null  int32         \n",
      " 13  WeekOfYear                   53414 non-null  int64         \n",
      " 14  DayOfYear                    53414 non-null  int32         \n",
      " 15  DayOfWeek                    53414 non-null  int32         \n",
      " 16  region_Atlanta               53414 non-null  bool          \n",
      " 17  region_BaltimoreWashington   53414 non-null  bool          \n",
      " 18  region_BirminghamMontgomery  53414 non-null  bool          \n",
      " 19  region_Boise                 53414 non-null  bool          \n",
      " 20  region_Boston                53414 non-null  bool          \n",
      " 21  region_BuffaloRochester      53414 non-null  bool          \n",
      " 22  region_California            53414 non-null  bool          \n",
      " 23  region_Charlotte             53414 non-null  bool          \n",
      " 24  region_Chicago               53414 non-null  bool          \n",
      " 25  region_CincinnatiDayton      53414 non-null  bool          \n",
      " 26  region_Columbus              53414 non-null  bool          \n",
      " 27  region_DallasFtWorth         53414 non-null  bool          \n",
      " 28  region_Denver                53414 non-null  bool          \n",
      " 29  region_Detroit               53414 non-null  bool          \n",
      " 30  region_GrandRapids           53414 non-null  bool          \n",
      " 31  region_GreatLakes            53414 non-null  bool          \n",
      " 32  region_HarrisburgScranton    53414 non-null  bool          \n",
      " 33  region_HartfordSpringfield   53414 non-null  bool          \n",
      " 34  region_Houston               53414 non-null  bool          \n",
      " 35  region_Indianapolis          53414 non-null  bool          \n",
      " 36  region_Jacksonville          53414 non-null  bool          \n",
      " 37  region_LasVegas              53414 non-null  bool          \n",
      " 38  region_LosAngeles            53414 non-null  bool          \n",
      " 39  region_Louisville            53414 non-null  bool          \n",
      " 40  region_Miami                 53414 non-null  bool          \n",
      " 41  region_MiamiFtLauderdale     53414 non-null  bool          \n",
      " 42  region_Midsouth              53414 non-null  bool          \n",
      " 43  region_Nashville             53414 non-null  bool          \n",
      " 44  region_NewOrleans            53414 non-null  bool          \n",
      " 45  region_NewYork               53414 non-null  bool          \n",
      " 46  region_Northeast             53414 non-null  bool          \n",
      " 47  region_NorthernNewEngland    53414 non-null  bool          \n",
      " 48  region_Orlando               53414 non-null  bool          \n",
      " 49  region_PeoriaSpringfield     53414 non-null  bool          \n",
      " 50  region_Philadelphia          53414 non-null  bool          \n",
      " 51  region_PhoenixTucson         53414 non-null  bool          \n",
      " 52  region_Pittsburgh            53414 non-null  bool          \n",
      " 53  region_Plains                53414 non-null  bool          \n",
      " 54  region_Portland              53414 non-null  bool          \n",
      " 55  region_Providence            53414 non-null  bool          \n",
      " 56  region_RaleighGreensboro     53414 non-null  bool          \n",
      " 57  region_RichmondNorfolk       53414 non-null  bool          \n",
      " 58  region_Roanoke               53414 non-null  bool          \n",
      " 59  region_Sacramento            53414 non-null  bool          \n",
      " 60  region_SanDiego              53414 non-null  bool          \n",
      " 61  region_SanFrancisco          53414 non-null  bool          \n",
      " 62  region_Seattle               53414 non-null  bool          \n",
      " 63  region_SouthCarolina         53414 non-null  bool          \n",
      " 64  region_SouthCentral          53414 non-null  bool          \n",
      " 65  region_Southeast             53414 non-null  bool          \n",
      " 66  region_Spokane               53414 non-null  bool          \n",
      " 67  region_StLouis               53414 non-null  bool          \n",
      " 68  region_Syracuse              53414 non-null  bool          \n",
      " 69  region_Tampa                 53414 non-null  bool          \n",
      " 70  region_Toledo                53414 non-null  bool          \n",
      " 71  region_TotalUS               53414 non-null  bool          \n",
      " 72  region_West                  53414 non-null  bool          \n",
      " 73  region_WestTexNewMexico      53414 non-null  bool          \n",
      " 74  region_Wichita               53414 non-null  bool          \n",
      "dtypes: bool(59), datetime64[ns](1), float64(9), int32(4), int64(2)\n",
      "memory usage: 8.7 MB\n",
      "        Date  AveragePrice  TotalVolume    plu4046    plu4225   plu4770  \\\n",
      "0 2015-01-04          1.22     40873.28    2819.50   28287.42     49.90   \n",
      "1 2015-01-04          1.79      1373.95      57.42     153.88      0.00   \n",
      "2 2015-01-04          1.00    435021.49  364302.39   23821.16     82.15   \n",
      "3 2015-01-04          1.76      3846.69    1500.15     938.35      0.00   \n",
      "4 2015-01-04          1.08    788025.06   53987.31  552906.04  39995.03   \n",
      "\n",
      "   TotalBags  SmallBags  LargeBags  XLargeBags  ...  region_Southeast  \\\n",
      "0    9716.46    9186.93     529.53         0.0  ...             False   \n",
      "1    1162.65    1162.65       0.00         0.0  ...             False   \n",
      "2   46815.79   16707.15   30108.64         0.0  ...             False   \n",
      "3    1408.19    1071.35     336.84         0.0  ...             False   \n",
      "4  141136.68  137146.07    3990.61         0.0  ...             False   \n",
      "\n",
      "   region_Spokane  region_StLouis  region_Syracuse  region_Tampa  \\\n",
      "0           False           False            False         False   \n",
      "1           False           False            False         False   \n",
      "2           False           False            False         False   \n",
      "3           False           False            False         False   \n",
      "4           False           False            False         False   \n",
      "\n",
      "   region_Toledo  region_TotalUS  region_West  region_WestTexNewMexico  \\\n",
      "0          False           False        False                    False   \n",
      "1          False           False        False                    False   \n",
      "2          False           False        False                    False   \n",
      "3          False           False        False                    False   \n",
      "4          False           False        False                    False   \n",
      "\n",
      "   region_Wichita  \n",
      "0           False  \n",
      "1           False  \n",
      "2           False  \n",
      "3           False  \n",
      "4           False  \n",
      "\n",
      "[5 rows x 75 columns]\n",
      "Stored 'dfcleaned' (DataFrame)\n",
      "--------------------------------------------------\n",
      "Feature engineering step (time features) complete.\n"
     ]
    }
   ],
   "source": [
    "# --- Assuming df is loaded, cleaned, and 'Date' column exists ---\n",
    "\n",
    "print(\"--- Data Preparation: Feature Engineering (Time Features) - Corrected ---\")\n",
    "\n",
    "print(\"Converting 'Date' column to datetime type...\")\n",
    "dfcleaned['Date'] = pd.to_datetime(dfcleaned['Date'])\n",
    "    # --- Confirmed 'Date' column exists and is datetime ---\n",
    "\n",
    "    # Extract time-based features using the .dt accessor\n",
    "print(\"Extracting features using '.dt' accessor...\")\n",
    "dfcleaned['Year'] = dfcleaned['Date'].dt.year\n",
    "dfcleaned['Month'] = dfcleaned['Date'].dt.month\n",
    "dfcleaned['WeekOfYear'] = dfcleaned['Date'].dt.isocalendar().week.astype(int)\n",
    "dfcleaned['DayOfYear'] = dfcleaned['Date'].dt.dayofyear\n",
    "dfcleaned['DayOfWeek'] = dfcleaned['Date'].dt.dayofweek # Monday=0, Sunday=6\n",
    "\n",
    "print(\"\\nCreated new time-based features: Year, Month, WeekOfYear, DayOfYear, DayOfWeek\")\n",
    "print(\"Sample with new features:\")\n",
    "# map (AKA factored) the type column to 0 and 1\n",
    "dfcleaned[\"type\"] = dfcleaned[\"type\"].map({\"conventional\": 0, \"organic\": 1})\n",
    "\n",
    "# Turn the region (which is categorical) into binary columns (Dummy Variables))\n",
    "dfcleaned = pd.get_dummies(dfcleaned, columns=[\"region\"], drop_first=True)\n",
    "dfcleaned.info()\n",
    "\n",
    "# Show Date and the new columns\n",
    "#dfcleaned.info()\n",
    "print(dfcleaned.head())\n",
    "\n",
    "dfcleaned[['Date', 'Year', 'Month', 'WeekOfYear', 'DayOfYear', 'DayOfWeek']].head()\n",
    "\n",
    "%store dfcleaned \n",
    "print(\"-\" * 50)\n",
    "print(\"Feature engineering step (time features) complete.\")\n"
   ]
  },
  {
   "cell_type": "markdown",
   "metadata": {},
   "source": [
    "transforms the avocado dataset for machine learning by converting dates into time features (year, month, week, day), changing avocado type to numbers (0/1), and converting regions into binary columns (one-hot encoding). This increases columns because each region becomes its own column, but it's necessary to make categorical data work with machine learning models, helping them better understand patterns and predict avocado prices.\n",
    "***"
   ]
  }
 ],
 "metadata": {
  "kernelspec": {
   "display_name": "venv",
   "language": "python",
   "name": "python3"
  },
  "language_info": {
   "codemirror_mode": {
    "name": "ipython",
    "version": 3
   },
   "file_extension": ".py",
   "mimetype": "text/x-python",
   "name": "python",
   "nbconvert_exporter": "python",
   "pygments_lexer": "ipython3",
   "version": "3.12.9"
  }
 },
 "nbformat": 4,
 "nbformat_minor": 2
}
